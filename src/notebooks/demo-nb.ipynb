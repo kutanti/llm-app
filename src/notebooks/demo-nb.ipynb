{
 "cells": [
  {
   "cell_type": "code",
   "execution_count": null,
   "metadata": {},
   "outputs": [],
   "source": [
    "from openai import AzureOpenAI\n",
    "import os\n",
    "# print(os.getcwd())\n",
    "os.chdir(\"..\")\n",
    "# print(os.getcwd())\n",
    "\n",
    "from config import Config\n",
    "\n",
    "envConfig = Config()\n",
    "\n",
    "client = AzureOpenAI(\n",
    "    api_key=envConfig.openai_api_key,\n",
    "    api_version=envConfig.openai_api_version,\n",
    "    azure_endpoint=envConfig.openai_api_base_url\n",
    ")"
   ]
  },
  {
   "cell_type": "code",
   "execution_count": null,
   "metadata": {},
   "outputs": [],
   "source": [
    "from langchain_openai.chat_models import AzureChatOpenAI\n",
    "\n",
    "model = AzureChatOpenAI(\n",
    "    api_key=envConfig.openai_api_key,\n",
    "    api_version=envConfig.openai_api_version,\n",
    "    azure_endpoint=envConfig.openai_api_base_url,\n",
    "    azure_deployment=\"gpt-turbo\"\n",
    ")\n",
    "\n",
    "prompt = \"I want to open a resturant for Indian food, suggest a short and cool name for it\"\n",
    "model.invoke(prompt)\n",
    "\n",
    "from langchain_core.output_parsers import StrOutputParser\n",
    "\n",
    "parser = StrOutputParser()\n",
    "\n",
    "chain = model | parser\n",
    "chain.invoke(prompt)"
   ]
  },
  {
   "cell_type": "code",
   "execution_count": null,
   "metadata": {},
   "outputs": [],
   "source": [
    "from langchain.prompts import PromptTemplate\n",
    "from langchain.chains import LLMChain\n",
    "\n",
    "prompt_resturant_name = PromptTemplate(\n",
    "    input_variables=['cuisine'],\n",
    "    template=\"I want to open a resturant for {cuisine} food, suggest a short and cool name for it\"\n",
    ")\n",
    "\n",
    "prompt_resturant_name.format(cuisine=\"Indian\")\n",
    "\n",
    "chain_resturant_name = LLMChain(llm =  model, prompt = prompt_resturant_name)\n",
    "\n",
    "resturant_name = chain_resturant_name.run({\n",
    "    \"cuisine\":\"Indian\"\n",
    "})\n",
    "\n",
    "print(resturant_name)"
   ]
  },
  {
   "cell_type": "code",
   "execution_count": null,
   "metadata": {},
   "outputs": [],
   "source": [
    "prompt_menu_items = PromptTemplate(\n",
    "    input_variables=['resturant'],\n",
    "    template=\"Please suggest some food menu for the resturant {resturant}, as a comma separated list.\"\n",
    ")\n",
    "\n",
    "chain_food_menu = LLMChain(llm =  model, prompt = prompt_menu_items)\n",
    "\n",
    "chain_food_menu.run({\n",
    "    \"resturant\":resturant_name\n",
    "})"
   ]
  },
  {
   "cell_type": "markdown",
   "metadata": {},
   "source": [
    "Simple Sequential Chain"
   ]
  },
  {
   "cell_type": "code",
   "execution_count": null,
   "metadata": {},
   "outputs": [],
   "source": [
    "\n",
    "from langchain.chains import SimpleSequentialChain\n",
    "\n",
    "# Create a SimpleSequentialChain with the defined prompts and chain\n",
    "simple_seq_chain = SimpleSequentialChain(chains=[chain_resturant_name, chain_food_menu])\n",
    "\n",
    "simple_seq_chain.run(\"Thai\")\n"
   ]
  },
  {
   "cell_type": "markdown",
   "metadata": {},
   "source": [
    "Sequential Chain ( Stateful)"
   ]
  },
  {
   "cell_type": "code",
   "execution_count": null,
   "metadata": {},
   "outputs": [],
   "source": [
    "from langchain.chains import SequentialChain\n",
    "\n",
    "prompt_resturant_name = PromptTemplate(\n",
    "    input_variables=['cuisine'],\n",
    "    template=\"I want to open a resturant for {cuisine} food, suggest a short and cool name for it\"\n",
    ")\n",
    "\n",
    "chain_rest_name = LLMChain(llm =  model, prompt = prompt_resturant_name, output_key=\"resturant_name\")\n",
    "\n",
    "\n",
    "prompt_menu_items = PromptTemplate(\n",
    "    input_variables=['resturant_name'],\n",
    "    template=\"Please suggest some food menu for the resturant {resturant_name}, as a comma separated list.\"\n",
    ")\n",
    "\n",
    "chain_food_menu = LLMChain(llm =  model, prompt = prompt_menu_items, output_key=\"menu_items\")\n",
    "\n",
    "seq_chain = SequentialChain(\n",
    "    chains=[chain_rest_name, chain_food_menu],\n",
    "    input_variables=['cuisine'],\n",
    "    output_variables=[\"resturant_name\", \"menu_items\"]\n",
    "\n",
    ")\n",
    "\n",
    "seq_chain.invoke(\"Indian\")"
   ]
  }
 ],
 "metadata": {
  "kernelspec": {
   "display_name": ".venv",
   "language": "python",
   "name": "python3"
  },
  "language_info": {
   "codemirror_mode": {
    "name": "ipython",
    "version": 3
   },
   "file_extension": ".py",
   "mimetype": "text/x-python",
   "name": "python",
   "nbconvert_exporter": "python",
   "pygments_lexer": "ipython3",
   "version": "3.11.4"
  }
 },
 "nbformat": 4,
 "nbformat_minor": 2
}
