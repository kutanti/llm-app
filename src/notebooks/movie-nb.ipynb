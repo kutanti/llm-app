{
 "cells": [
  {
   "cell_type": "code",
   "execution_count": null,
   "metadata": {},
   "outputs": [],
   "source": [
    "from openai import AzureOpenAI\n",
    "import os\n",
    "# print(os.getcwd())\n",
    "os.chdir(\"..\")\n",
    "# print(os.getcwd())\n",
    "\n",
    "from config import Config\n",
    "\n",
    "envConfig = Config()\n",
    "\n",
    "client = AzureOpenAI(\n",
    "    api_key=envConfig.openai_api_key,\n",
    "    api_version=envConfig.openai_api_version,\n",
    "    azure_endpoint=envConfig.openai_api_base_url\n",
    ")"
   ]
  },
  {
   "cell_type": "code",
   "execution_count": null,
   "metadata": {},
   "outputs": [],
   "source": [
    "from langchain_openai.chat_models import AzureChatOpenAI\n",
    "\n",
    "model = AzureChatOpenAI(\n",
    "    api_key=envConfig.openai_api_key,\n",
    "    api_version=envConfig.openai_api_version,\n",
    "    azure_endpoint=envConfig.openai_api_base_url,\n",
    "    azure_deployment=\"gpt-turbo\",\n",
    "    temperature=.9\n",
    "\n",
    ")\n",
    "\n",
    "prompt = \"I am script writter for Movies, please suggest a nice name for a Action movie.\"\n",
    "model.invoke(prompt)\n",
    "\n",
    "from langchain_core.output_parsers import StrOutputParser\n",
    "\n",
    "parser = StrOutputParser()\n",
    "\n",
    "chain = model | parser\n",
    "chain.invoke(prompt)"
   ]
  },
  {
   "cell_type": "code",
   "execution_count": null,
   "metadata": {},
   "outputs": [],
   "source": [
    "from langchain.prompts import PromptTemplate\n",
    "from langchain.chains import LLMChain\n",
    "\n",
    "prompt_movie_name = PromptTemplate(\n",
    "    input_variables=['Genre'],\n",
    "    template=\"I am script writter for Movies, please suggest a nice name for a {Genre} movie.\"\n",
    ")\n",
    "\n",
    "prompt_movie_name.format(Genre=\"Action\")\n",
    "\n",
    "chain_movie_name = LLMChain(llm =  model, prompt = prompt_movie_name)\n",
    "\n",
    "movie_name = chain_movie_name.run({\n",
    "    \"Genre\":\"Comedy\"\n",
    "})\n",
    "\n",
    "print(movie_name)"
   ]
  },
  {
   "cell_type": "code",
   "execution_count": null,
   "metadata": {},
   "outputs": [],
   "source": [
    "prompt_movie_story = PromptTemplate(\n",
    "    input_variables=['movie_name'],\n",
    "    template=\"I want to write the story of the movie {movie_name}, please give a story line in about 100 words.\"\n",
    ")\n",
    "\n",
    "chain_movie_story = LLMChain(llm =  model, prompt = prompt_movie_story)\n",
    "\n",
    "chain_movie_story.run({\n",
    "    \"movie_name\":movie_name\n",
    "})"
   ]
  },
  {
   "cell_type": "markdown",
   "metadata": {},
   "source": [
    "Simple Sequential Chain"
   ]
  },
  {
   "cell_type": "code",
   "execution_count": null,
   "metadata": {},
   "outputs": [],
   "source": [
    "\n",
    "from langchain.chains import SimpleSequentialChain\n",
    "\n",
    "# Create a SimpleSequentialChain with the defined prompts and chain\n",
    "simple_seq_chain = SimpleSequentialChain(chains=[chain_movie_name, chain_movie_story])\n",
    "\n",
    "simple_seq_chain.run(\"Suspense\")\n"
   ]
  },
  {
   "cell_type": "markdown",
   "metadata": {},
   "source": [
    "Sequential Chain ( Stateful)"
   ]
  },
  {
   "cell_type": "code",
   "execution_count": null,
   "metadata": {},
   "outputs": [],
   "source": [
    "from langchain.chains import SequentialChain\n",
    "\n",
    "prompt_movie_name = PromptTemplate(\n",
    "    input_variables=['Genre'],\n",
    "    template=\"I am script writter for Movies, please suggest a nice name for a {Genre} movie.\"\n",
    ")\n",
    "\n",
    "chain_movie_name = LLMChain(llm =  model, prompt = prompt_movie_name, output_key=\"movie_name\")\n",
    "\n",
    "\n",
    "prompt_movie_story = PromptTemplate(\n",
    "    input_variables=['movie_name','Genre'],\n",
    "    template=\"I want to write the story of the movie {movie_name} of Genre {Genre}, please give a story line in about 100 words.\"\n",
    ")\n",
    "\n",
    "chain_movie_story = LLMChain(llm =  model, prompt = prompt_movie_story, output_key=\"movie_story\")\n",
    "\n",
    "seq_chain = SequentialChain(\n",
    "    chains=[chain_movie_name, chain_movie_story],\n",
    "    input_variables=['Genre'],\n",
    "    output_variables=[\"movie_name\", \"movie_story\"]\n",
    ")\n",
    "\n",
    "seq_chain.invoke(\"Thriller\")"
   ]
  },
  {
   "cell_type": "markdown",
   "metadata": {},
   "source": [
    "Embeddings"
   ]
  },
  {
   "cell_type": "code",
   "execution_count": null,
   "metadata": {},
   "outputs": [],
   "source": [
    "from langchain_openai.embeddings import AzureOpenAIEmbeddings\n",
    "\n",
    "embedding_model = AzureOpenAIEmbeddings(\n",
    "    api_key=envConfig.openai_api_key,\n",
    "    api_version=envConfig.openai_api_version,\n",
    "    azure_endpoint=envConfig.openai_api_base_url,\n",
    "    azure_deployment=\"embedding-model\"\n",
    ")\n",
    "\n",
    "vector = embedding_model.embed_query(\"I like Avengers!!\")\n",
    "print(vector[:5])"
   ]
  },
  {
   "cell_type": "markdown",
   "metadata": {},
   "source": [
    "Training Dataset"
   ]
  },
  {
   "cell_type": "code",
   "execution_count": null,
   "metadata": {},
   "outputs": [],
   "source": [
    "movie1= embedding_model.embed_query(\"After the mysterious disappearance of her daughter, a grieving mother turns to a psychic for help. As the psychic begins to uncover the truth behind the girl's disappearance, it becomes clear that there is something sinister happening in the small town. With the help of the local sheriff, they set out to uncover the dark secrets that have been hidden for years, but as they get closer to the truth, they realize that there are forces at work that are far beyond anything they could have imagined. Will they be able to solve the mystery and bring the girl home, or will they be consumed by the shadowed secrets that lie buried in the town's troubled past?\")\n",
    "movie2= embedding_model.embed_query(\"Laugh Out Loud follows the story of Lola, a high school student who must navigate the ups and downs of teenage life while also trying to mend her strained relationship with her separated parents. When her mom sends her to a new school, she discovers the world of stand-up comedy and decides to pursue a career in it. Along the way, Lola learns about the power of forgiveness and the importance of following your dreams\")\n",
    "movie3=embedding_model.embed_query(\"Deadly Pursuit is a gripping thriller that follows a young woman named Melanie Fraser, who is on the run from a dangerous drug dealer after witnessing a murder. She seeks help from a former soldier, Shane Alcott, who is haunted by his past and reluctant to get involved. As they flee through the wilderness, they are pursued by the ruthless killer and his henchmen. With danger at every turn, Melanie and Shane must trust each other to stay alive and outsmart their pursuers before it's too late.\")\n"
   ]
  },
  {
   "cell_type": "code",
   "execution_count": null,
   "metadata": {},
   "outputs": [],
   "source": [
    "from sklearn.metrics.pairwise import cosine_similarity\n",
    "\n",
    "response = seq_chain.invoke(\"Action\")\n",
    "\n",
    "story = response.get(\"movie_story\")\n",
    "\n",
    "print(story)\n",
    "\n",
    "current_movie_query_vector = embedding_model.embed_query(story)\n",
    "\n",
    "similarity = cosine_similarity([movie1],[current_movie_query_vector])\n",
    "\n",
    "similarity[0][0]"
   ]
  }
 ],
 "metadata": {
  "kernelspec": {
   "display_name": ".venv",
   "language": "python",
   "name": "python3"
  },
  "language_info": {
   "codemirror_mode": {
    "name": "ipython",
    "version": 3
   },
   "file_extension": ".py",
   "mimetype": "text/x-python",
   "name": "python",
   "nbconvert_exporter": "python",
   "pygments_lexer": "ipython3",
   "version": "3.11.4"
  }
 },
 "nbformat": 4,
 "nbformat_minor": 2
}
